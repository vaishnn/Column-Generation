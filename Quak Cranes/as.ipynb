{
 "cells": [
  {
   "cell_type": "code",
   "execution_count": 1,
   "metadata": {},
   "outputs": [
    {
     "name": "stdout",
     "output_type": "stream",
     "text": [
      "[[0 2 2]\n",
      " [1 1 2]\n",
      " [1 2 1]\n",
      " [2 0 2]\n",
      " [2 1 1]\n",
      " [2 2 0]]\n"
     ]
    }
   ],
   "source": [
    "import numpy as np \n",
    "\n",
    "def generate_patterns(n, k, m, pattern=[]):\n",
    "    patterns = []  # List to store all the patterns\n",
    "\n",
    "    if len(pattern) == n:  # Base case: Pattern is complete\n",
    "        if sum(pattern) == m:  # Check if the pattern satisfies the total number of balls\n",
    "            patterns.append(pattern.copy())\n",
    "        return patterns\n",
    "    \n",
    "    for i in range(k + 1):  # Iterate over the capacities of the current box\n",
    "        if sum(pattern) + i <= m:  # Check if adding i balls to the pattern is valid\n",
    "            patterns += generate_patterns(n, k, m, pattern + [i])  # Recursive call to generate next box pattern\n",
    "\n",
    "    return patterns\n",
    "\n",
    "# Example usage\n",
    "n = 3  # Number of boxes\n",
    "k = 2  # Capacity of each box\n",
    "m = 4  # Total number of balls\n",
    "\n",
    "all_patterns = np.array(generate_patterns(n, k, m))\n",
    "print(all_patterns)\n"
   ]
  },
  {
   "cell_type": "code",
   "execution_count": 2,
   "metadata": {},
   "outputs": [
    {
     "name": "stdout",
     "output_type": "stream",
     "text": [
      "[0 2 2]\n",
      "[1 1 2]\n",
      "[1 2 1]\n",
      "[2 0 2]\n",
      "[2 1 1]\n",
      "[2 2 0]\n"
     ]
    }
   ],
   "source": [
    "for i in all_patterns:\n",
    "    print(i)"
   ]
  },
  {
   "cell_type": "code",
   "execution_count": null,
   "metadata": {},
   "outputs": [],
   "source": []
  }
 ],
 "metadata": {
  "kernelspec": {
   "display_name": "Python 3",
   "language": "python",
   "name": "python3"
  },
  "language_info": {
   "codemirror_mode": {
    "name": "ipython",
    "version": 3
   },
   "file_extension": ".py",
   "mimetype": "text/x-python",
   "name": "python",
   "nbconvert_exporter": "python",
   "pygments_lexer": "ipython3",
   "version": "3.9.13"
  },
  "orig_nbformat": 4
 },
 "nbformat": 4,
 "nbformat_minor": 2
}
