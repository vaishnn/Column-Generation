{
 "cells": [
  {
   "cell_type": "code",
   "execution_count": 92,
   "metadata": {},
   "outputs": [
    {
     "name": "stdout",
     "output_type": "stream",
     "text": [
      "[5. 5. 3. 0.]\n",
      "(1, 4)\n"
     ]
    }
   ],
   "source": [
    "import numpy as np\n",
    "from upper_bound import upper_bound\n",
    "from lower_bound import lower_bound\n",
    "\n",
    "def all_possible_patterns(max_crane_in_one_time, time_stay, hours_shift, total_no_of_quack_crane, pattern_lower):\n",
    "    pattern = np.array([[]]);\n",
    "    pattern_lower = np.transpose(np.append(pattern_lower, np.zeros(int(time_stay/hours_shift) - np.shape(pattern_lower)[0])))\n",
    "    pattern = np.append(pattern, np.reshape(pattern_lower, [1,np.shape(pattern_lower)[0]]))\n",
    "    print(pattern)\n",
    "    pattern = np.reshape(pattern,[1,pattern.shape[0]])\n",
    "    print(pattern.shape)\n",
    "    new_patterns = np.array(generate_patterns(time_stay/hours_shift, max_crane_in_one_time, total_no_of_quack_crane))\n",
    "    for i in new_patterns:\n",
    "        if check_replicacy(pattern, i) == 1:\n",
    "            pattern = np.append(pattern, np.reshape(np.sort(i)[::-1], [1,np.shape(i)[0]]),axis=0)\n",
    "\n",
    "        else:\n",
    "            continue\n",
    "    return pattern\n",
    "\n",
    "    \n",
    "\n",
    "def generate_patterns(n, k, m, pattern=[]):\n",
    "    patterns = []  # List to store all the patterns\n",
    "\n",
    "    if len(pattern) == n:  # Base case: Pattern is complete\n",
    "        if sum(pattern) == m:  # Check if the pattern satisfies the total number of balls\n",
    "            patterns.append(pattern.copy())\n",
    "        return patterns\n",
    "    \n",
    "    for i in range(k + 1):  # Iterate over the capacities of the current box\n",
    "        if sum(pattern) + i <= m:  # Check if adding i balls to the pattern is valid\n",
    "            patterns += generate_patterns(n, k, m, pattern + [i])  # Recursive call to generate next box pattern\n",
    "\n",
    "    return patterns\n",
    "\n",
    "def check_replicacy(pattern,new_r):\n",
    "    \n",
    "    for i in range(np.shape(pattern)[0]):\n",
    "        if np.array_equal(np.sort(pattern[i,:]), np.sort(new_r)):\n",
    "            return -1\n",
    "    return 1\n",
    "\n",
    "a = all_possible_patterns(5,8,2,13, np.array([5,5,3]))"
   ]
  },
  {
   "cell_type": "code",
   "execution_count": 93,
   "metadata": {},
   "outputs": [
    {
     "data": {
      "text/plain": [
       "array([[5., 5., 3., 0.],\n",
       "       [5., 4., 4., 0.],\n",
       "       [5., 5., 2., 1.],\n",
       "       [5., 4., 3., 1.],\n",
       "       [4., 4., 4., 1.],\n",
       "       [5., 4., 2., 2.],\n",
       "       [5., 3., 3., 2.],\n",
       "       [4., 4., 3., 2.],\n",
       "       [4., 3., 3., 3.]])"
      ]
     },
     "execution_count": 93,
     "metadata": {},
     "output_type": "execute_result"
    }
   ],
   "source": [
    "a"
   ]
  },
  {
   "cell_type": "code",
   "execution_count": null,
   "metadata": {},
   "outputs": [],
   "source": []
  }
 ],
 "metadata": {
  "kernelspec": {
   "display_name": "Python 3",
   "language": "python",
   "name": "python3"
  },
  "language_info": {
   "codemirror_mode": {
    "name": "ipython",
    "version": 3
   },
   "file_extension": ".py",
   "mimetype": "text/x-python",
   "name": "python",
   "nbconvert_exporter": "python",
   "pygments_lexer": "ipython3",
   "version": "3.9.13"
  },
  "orig_nbformat": 4
 },
 "nbformat": 4,
 "nbformat_minor": 2
}
